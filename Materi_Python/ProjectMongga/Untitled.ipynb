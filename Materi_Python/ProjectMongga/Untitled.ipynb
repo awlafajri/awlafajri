{
 "cells": [
  {
   "cell_type": "markdown",
   "id": "91e647fd-2e38-440f-9ae0-36f3cdebf674",
   "metadata": {},
   "source": [
    "## Import Numpy"
   ]
  },
  {
   "cell_type": "code",
   "execution_count": 1,
   "id": "736fff5f-2423-4fb4-93df-34baa029439c",
   "metadata": {},
   "outputs": [],
   "source": [
    "import numpy as np"
   ]
  },
  {
   "cell_type": "code",
   "execution_count": 2,
   "id": "1dcca941-b22c-4f46-9597-2e35652d6035",
   "metadata": {},
   "outputs": [],
   "source": [
    "a = np.array([1,2,3])"
   ]
  },
  {
   "cell_type": "code",
   "execution_count": 18,
   "id": "5ac1acb2-d80b-4f92-85ab-bc5da0842941",
   "metadata": {},
   "outputs": [],
   "source": [
    "b = np.array([[1,2,3,4,6,7,8],\n",
    "             [5,6,7,8,12,11,19]])"
   ]
  },
  {
   "cell_type": "code",
   "execution_count": 11,
   "id": "fd90cc11-35b1-4637-8953-63e5692dbbe5",
   "metadata": {},
   "outputs": [
    {
     "data": {
      "text/plain": [
       "2"
      ]
     },
     "execution_count": 11,
     "metadata": {},
     "output_type": "execute_result"
    }
   ],
   "source": [
    "b.ndim"
   ]
  },
  {
   "cell_type": "code",
   "execution_count": 19,
   "id": "44c548e3-b20e-4335-8c2d-bf32cc5b7efe",
   "metadata": {},
   "outputs": [
    {
     "data": {
      "text/plain": [
       "14"
      ]
     },
     "execution_count": 19,
     "metadata": {},
     "output_type": "execute_result"
    }
   ],
   "source": [
    "b.size"
   ]
  },
  {
   "cell_type": "code",
   "execution_count": 21,
   "id": "a85804da-5001-45fb-ae4b-bceb52cfd2bc",
   "metadata": {},
   "outputs": [
    {
     "data": {
      "text/plain": [
       "(3,)"
      ]
     },
     "execution_count": 21,
     "metadata": {},
     "output_type": "execute_result"
    }
   ],
   "source": [
    "a.shape"
   ]
  },
  {
   "cell_type": "code",
   "execution_count": 20,
   "id": "29834b57-a517-4f0a-a57d-6d1ff1a3fe11",
   "metadata": {},
   "outputs": [
    {
     "data": {
      "text/plain": [
       "(2, 7)"
      ]
     },
     "execution_count": 20,
     "metadata": {},
     "output_type": "execute_result"
    }
   ],
   "source": [
    "b.shape"
   ]
  },
  {
   "cell_type": "code",
   "execution_count": 22,
   "id": "bb41eacc-8b1a-4fb3-b099-60bb62901961",
   "metadata": {},
   "outputs": [],
   "source": [
    "c = np.array([[[1,2],[3,4],[6,7]],\n",
    "             [[5,6],[7,8],[12,11]]])"
   ]
  },
  {
   "cell_type": "code",
   "execution_count": 28,
   "id": "cf183f54-ce08-4599-adcf-d830c0581fc6",
   "metadata": {},
   "outputs": [
    {
     "data": {
      "text/plain": [
       "4"
      ]
     },
     "execution_count": 28,
     "metadata": {},
     "output_type": "execute_result"
    }
   ],
   "source": [
    "b[0,3]"
   ]
  },
  {
   "cell_type": "code",
   "execution_count": 29,
   "id": "e32b743e-4bf0-45ee-a671-e3d91db6b734",
   "metadata": {},
   "outputs": [
    {
     "data": {
      "text/plain": [
       "4"
      ]
     },
     "execution_count": 29,
     "metadata": {},
     "output_type": "execute_result"
    }
   ],
   "source": [
    "c[0,1,1]"
   ]
  },
  {
   "cell_type": "code",
   "execution_count": 97,
   "id": "facfd22a-51d1-4465-b8a0-0efed88471b4",
   "metadata": {},
   "outputs": [],
   "source": [
    "d = np.array([[1,2,3,4,5,6],\n",
    "            [7,8,9,10,11,12],\n",
    "            [13,14,15,16,17,18],\n",
    "            [19,20,21,22,23,24]])"
   ]
  },
  {
   "cell_type": "code",
   "execution_count": 96,
   "id": "e9c9c6d2-fdfb-435f-b5f8-81cd2a3d3346",
   "metadata": {},
   "outputs": [
    {
     "data": {
      "text/plain": [
       "array([ 9, 11])"
      ]
     },
     "execution_count": 96,
     "metadata": {},
     "output_type": "execute_result"
    }
   ],
   "source": [
    "d[1,2:7:2]"
   ]
  },
  {
   "cell_type": "markdown",
   "id": "71ea427e-f262-48da-b027-bf7da04f80b4",
   "metadata": {},
   "source": [
    "awal:akhir:stepsize"
   ]
  },
  {
   "cell_type": "code",
   "execution_count": 54,
   "id": "34e5b86e-fc7e-4aae-b6d9-69f698754c56",
   "metadata": {},
   "outputs": [],
   "source": [
    "d[0:2,::2] = [[0,0,0],[0,0,0]]"
   ]
  },
  {
   "cell_type": "code",
   "execution_count": 48,
   "id": "b109333a-a458-4dcf-8f27-b1171dad983c",
   "metadata": {},
   "outputs": [],
   "source": [
    "d[[0,1,2,3],[4,2,4,5]] = [0,0,0,0]"
   ]
  },
  {
   "cell_type": "code",
   "execution_count": 55,
   "id": "d9449799-d701-4344-9321-d4165fdaba6c",
   "metadata": {},
   "outputs": [
    {
     "data": {
      "text/plain": [
       "array([[ 0,  2,  0,  4,  0,  6],\n",
       "       [ 0,  8,  0, 10,  0, 12],\n",
       "       [13, 14, 15, 16, 17, 18],\n",
       "       [19, 20, 21, 22, 23, 24]])"
      ]
     },
     "execution_count": 55,
     "metadata": {},
     "output_type": "execute_result"
    }
   ],
   "source": [
    "d"
   ]
  },
  {
   "cell_type": "markdown",
   "id": "df79a477-828e-4d3b-9b50-0845c8ecd8c4",
   "metadata": {},
   "source": [
    "# Buat array"
   ]
  },
  {
   "cell_type": "code",
   "execution_count": 60,
   "id": "68a0f33a-79c3-47c4-8dd3-afb6a9e31430",
   "metadata": {},
   "outputs": [],
   "source": [
    "fungsi_nol = np.zeros((3,2,5))"
   ]
  },
  {
   "cell_type": "code",
   "execution_count": 61,
   "id": "6ba7c44a-8cc1-4b37-a415-93bebb6221cb",
   "metadata": {},
   "outputs": [
    {
     "data": {
      "text/plain": [
       "array([[[0., 0., 0., 0., 0.],\n",
       "        [0., 0., 0., 0., 0.]],\n",
       "\n",
       "       [[0., 0., 0., 0., 0.],\n",
       "        [0., 0., 0., 0., 0.]],\n",
       "\n",
       "       [[0., 0., 0., 0., 0.],\n",
       "        [0., 0., 0., 0., 0.]]])"
      ]
     },
     "execution_count": 61,
     "metadata": {},
     "output_type": "execute_result"
    }
   ],
   "source": [
    "fungsi_nol"
   ]
  },
  {
   "cell_type": "code",
   "execution_count": 65,
   "id": "0a7bbae6-6088-49b3-97fc-6dbc0d30f8be",
   "metadata": {},
   "outputs": [],
   "source": [
    "fungsi_satu = np.ones((2,3),dtype = \"int16\")"
   ]
  },
  {
   "cell_type": "code",
   "execution_count": 66,
   "id": "71b20b61-0594-4f0b-81a9-bf55ef73c5b0",
   "metadata": {},
   "outputs": [
    {
     "data": {
      "text/plain": [
       "dtype('int16')"
      ]
     },
     "execution_count": 66,
     "metadata": {},
     "output_type": "execute_result"
    }
   ],
   "source": [
    "fungsi_satu.dtype"
   ]
  },
  {
   "cell_type": "code",
   "execution_count": 67,
   "id": "aa425df8-1fb9-4e84-86ad-5ac46b6b0447",
   "metadata": {},
   "outputs": [
    {
     "data": {
      "text/plain": [
       "array([[1, 1, 1],\n",
       "       [1, 1, 1]], dtype=int16)"
      ]
     },
     "execution_count": 67,
     "metadata": {},
     "output_type": "execute_result"
    }
   ],
   "source": [
    "fungsi_satu"
   ]
  },
  {
   "cell_type": "code",
   "execution_count": 68,
   "id": "863e2714-526e-45f5-a848-8242a12244ce",
   "metadata": {},
   "outputs": [],
   "source": [
    "fungsi_full = np.full((2,3),8)"
   ]
  },
  {
   "cell_type": "code",
   "execution_count": 69,
   "id": "4554b90b-4fce-4d42-b3c0-aae12cba8b17",
   "metadata": {},
   "outputs": [
    {
     "data": {
      "text/plain": [
       "array([[8, 8, 8],\n",
       "       [8, 8, 8]])"
      ]
     },
     "execution_count": 69,
     "metadata": {},
     "output_type": "execute_result"
    }
   ],
   "source": [
    "fungsi_full"
   ]
  },
  {
   "cell_type": "code",
   "execution_count": 70,
   "id": "fe7862e8-11f9-40b0-8d5c-5d9e38e01705",
   "metadata": {},
   "outputs": [],
   "source": [
    "fungsi_pengganti = np.full_like(d, 10)"
   ]
  },
  {
   "cell_type": "code",
   "execution_count": 71,
   "id": "607db117-fb35-441c-8167-9ca1ecb6af3e",
   "metadata": {},
   "outputs": [
    {
     "data": {
      "text/plain": [
       "array([[10, 10, 10, 10, 10, 10],\n",
       "       [10, 10, 10, 10, 10, 10],\n",
       "       [10, 10, 10, 10, 10, 10],\n",
       "       [10, 10, 10, 10, 10, 10]])"
      ]
     },
     "execution_count": 71,
     "metadata": {},
     "output_type": "execute_result"
    }
   ],
   "source": [
    "fungsi_pengganti"
   ]
  },
  {
   "cell_type": "code",
   "execution_count": 83,
   "id": "71295c9a-6df2-4926-bbbf-0046d461cba0",
   "metadata": {},
   "outputs": [],
   "source": [
    "c=np.random.rand(4,2)"
   ]
  },
  {
   "cell_type": "code",
   "execution_count": 84,
   "id": "1033e116-628d-4d38-9c4b-d1eab47c79b6",
   "metadata": {},
   "outputs": [
    {
     "data": {
      "text/plain": [
       "array([[0.13168832, 0.14968239],\n",
       "       [0.69153574, 0.20463648],\n",
       "       [0.19389343, 0.76751438],\n",
       "       [0.83165507, 0.39981499]])"
      ]
     },
     "execution_count": 84,
     "metadata": {},
     "output_type": "execute_result"
    }
   ],
   "source": [
    "c"
   ]
  },
  {
   "cell_type": "code",
   "execution_count": 85,
   "id": "82df1587-f455-4f31-bf1e-c853ec349c33",
   "metadata": {},
   "outputs": [],
   "source": [
    "c=(c-0.5)*100"
   ]
  },
  {
   "cell_type": "code",
   "execution_count": 86,
   "id": "ee4d7f06-6bdd-4ed7-a56b-21275c8337a8",
   "metadata": {},
   "outputs": [
    {
     "data": {
      "text/plain": [
       "array([[-36.83116766, -35.03176073],\n",
       "       [ 19.15357383, -29.53635176],\n",
       "       [-30.61065694,  26.75143849],\n",
       "       [ 33.16550707, -10.01850081]])"
      ]
     },
     "execution_count": 86,
     "metadata": {},
     "output_type": "execute_result"
    }
   ],
   "source": [
    "c"
   ]
  },
  {
   "cell_type": "code",
   "execution_count": 87,
   "id": "d4fd6544-d357-4afa-ba2a-8b6b7178abe6",
   "metadata": {},
   "outputs": [],
   "source": [
    "c = np.random.randint(-4,6, size =(2,3))"
   ]
  },
  {
   "cell_type": "code",
   "execution_count": 88,
   "id": "c0da64e0-2ced-4bfe-86bc-07b0a9007d5f",
   "metadata": {},
   "outputs": [
    {
     "data": {
      "text/plain": [
       "array([[-2,  0, -1],\n",
       "       [-2,  5,  2]])"
      ]
     },
     "execution_count": 88,
     "metadata": {},
     "output_type": "execute_result"
    }
   ],
   "source": [
    "c"
   ]
  },
  {
   "cell_type": "code",
   "execution_count": 91,
   "id": "04cba55b-b7a2-436a-92f0-e796c12e3d4d",
   "metadata": {},
   "outputs": [],
   "source": [
    "d = np.identity(6, dtype = \"int64\")"
   ]
  },
  {
   "cell_type": "code",
   "execution_count": 92,
   "id": "fb410ff3-109f-420c-aa9a-a938e597728e",
   "metadata": {},
   "outputs": [
    {
     "data": {
      "text/plain": [
       "array([[1, 0, 0, 0, 0, 0],\n",
       "       [0, 1, 0, 0, 0, 0],\n",
       "       [0, 0, 1, 0, 0, 0],\n",
       "       [0, 0, 0, 1, 0, 0],\n",
       "       [0, 0, 0, 0, 1, 0],\n",
       "       [0, 0, 0, 0, 0, 1]], dtype=int16)"
      ]
     },
     "execution_count": 92,
     "metadata": {},
     "output_type": "execute_result"
    }
   ],
   "source": [
    "d"
   ]
  },
  {
   "cell_type": "code",
   "execution_count": 123,
   "id": "3c97bb12-d8d7-43d3-8fc6-dd264f67108d",
   "metadata": {},
   "outputs": [],
   "source": [
    "d = np.array([[1,2,3,4,5,6],\n",
    "            [7,8,9,10,11,12],\n",
    "            [13,14,15,16,17,18],\n",
    "            [19,20,21,22,23,24]])"
   ]
  },
  {
   "cell_type": "code",
   "execution_count": 127,
   "id": "53c069ee-46e6-4268-b5ed-8fbf581dac06",
   "metadata": {},
   "outputs": [],
   "source": [
    "d_kali = np.full((6,3),5)"
   ]
  },
  {
   "cell_type": "code",
   "execution_count": 128,
   "id": "f4bb5d62-4c2c-458e-842a-087068d1f3d9",
   "metadata": {},
   "outputs": [
    {
     "data": {
      "text/plain": [
       "array([[ 1,  2,  3,  4,  5,  6],\n",
       "       [ 7,  8,  9, 10, 11, 12],\n",
       "       [13, 14, 15, 16, 17, 18],\n",
       "       [19, 20, 21, 22, 23, 24]])"
      ]
     },
     "execution_count": 128,
     "metadata": {},
     "output_type": "execute_result"
    }
   ],
   "source": [
    "d"
   ]
  },
  {
   "cell_type": "code",
   "execution_count": 129,
   "id": "9183cb4a-d74e-4d9a-94f8-3327867af9c9",
   "metadata": {},
   "outputs": [
    {
     "data": {
      "text/plain": [
       "array([[5, 5, 5],\n",
       "       [5, 5, 5],\n",
       "       [5, 5, 5],\n",
       "       [5, 5, 5],\n",
       "       [5, 5, 5],\n",
       "       [5, 5, 5]])"
      ]
     },
     "execution_count": 129,
     "metadata": {},
     "output_type": "execute_result"
    }
   ],
   "source": [
    "d_kali"
   ]
  },
  {
   "cell_type": "code",
   "execution_count": 130,
   "id": "ffe0cdde-2e60-46e5-8a7e-91b22d00b482",
   "metadata": {},
   "outputs": [],
   "source": [
    "hasil = np.matmul(d,d_kali)"
   ]
  },
  {
   "cell_type": "code",
   "execution_count": 131,
   "id": "70365c6f-c0f9-4c85-85a7-8953d315ad7f",
   "metadata": {},
   "outputs": [
    {
     "data": {
      "text/plain": [
       "array([[105, 105, 105],\n",
       "       [285, 285, 285],\n",
       "       [465, 465, 465],\n",
       "       [645, 645, 645]])"
      ]
     },
     "execution_count": 131,
     "metadata": {},
     "output_type": "execute_result"
    }
   ],
   "source": [
    "hasil"
   ]
  },
  {
   "cell_type": "code",
   "execution_count": 133,
   "id": "65d4e414-98b0-445d-b2d7-a46c235f8abe",
   "metadata": {},
   "outputs": [],
   "source": [
    "c = np.random.randint(1,4,size =(4,4))"
   ]
  },
  {
   "cell_type": "code",
   "execution_count": 134,
   "id": "7866336d-19fb-4f02-b75f-d7e47dd20e5c",
   "metadata": {},
   "outputs": [
    {
     "data": {
      "text/plain": [
       "array([[3, 3, 1, 1],\n",
       "       [3, 1, 2, 3],\n",
       "       [1, 2, 2, 3],\n",
       "       [1, 1, 1, 1]])"
      ]
     },
     "execution_count": 134,
     "metadata": {},
     "output_type": "execute_result"
    }
   ],
   "source": [
    "c"
   ]
  },
  {
   "cell_type": "code",
   "execution_count": 135,
   "id": "1fe3a052-9811-4f04-a2ea-aad4ee1ca621",
   "metadata": {},
   "outputs": [
    {
     "data": {
      "text/plain": [
       "6.0"
      ]
     },
     "execution_count": 135,
     "metadata": {},
     "output_type": "execute_result"
    }
   ],
   "source": [
    "np.linalg.det(c)"
   ]
  },
  {
   "cell_type": "code",
   "execution_count": 136,
   "id": "489a89c9-eadb-429f-b5bd-e88a19a1d52f",
   "metadata": {},
   "outputs": [
    {
     "data": {
      "text/plain": [
       "array([[ 0.16666667,  0.33333333, -0.33333333, -0.16666667],\n",
       "       [ 0.33333333, -0.33333333,  0.33333333, -0.33333333],\n",
       "       [-0.66666667, -0.33333333, -0.66666667,  3.66666667],\n",
       "       [ 0.16666667,  0.33333333,  0.66666667, -2.16666667]])"
      ]
     },
     "execution_count": 136,
     "metadata": {},
     "output_type": "execute_result"
    }
   ],
   "source": [
    "np.linalg.inv(c)"
   ]
  },
  {
   "cell_type": "code",
   "execution_count": 137,
   "id": "e8df0715-9586-4f0d-b764-e68e94cd023b",
   "metadata": {},
   "outputs": [
    {
     "data": {
      "text/plain": [
       "array([[ 1,  2,  3,  4,  5,  6],\n",
       "       [ 7,  8,  9, 10, 11, 12],\n",
       "       [13, 14, 15, 16, 17, 18],\n",
       "       [19, 20, 21, 22, 23, 24]])"
      ]
     },
     "execution_count": 137,
     "metadata": {},
     "output_type": "execute_result"
    }
   ],
   "source": [
    "d"
   ]
  },
  {
   "cell_type": "code",
   "execution_count": 138,
   "id": "947ecb19-6d2c-48fa-838a-e552522ee8de",
   "metadata": {},
   "outputs": [
    {
     "data": {
      "text/plain": [
       "array([[ 1,  2,  3,  4,  5,  6,  7,  8],\n",
       "       [ 9, 10, 11, 12, 13, 14, 15, 16],\n",
       "       [17, 18, 19, 20, 21, 22, 23, 24]])"
      ]
     },
     "execution_count": 138,
     "metadata": {},
     "output_type": "execute_result"
    }
   ],
   "source": [
    "d.reshape(3,8)"
   ]
  },
  {
   "cell_type": "code",
   "execution_count": 139,
   "id": "cb13a08e-e375-486e-b65c-e514c1a88565",
   "metadata": {},
   "outputs": [
    {
     "data": {
      "text/plain": [
       "array([[ 1,  2,  3,  4,  5,  6,  7,  8,  9, 10, 11, 12],\n",
       "       [13, 14, 15, 16, 17, 18, 19, 20, 21, 22, 23, 24]])"
      ]
     },
     "execution_count": 139,
     "metadata": {},
     "output_type": "execute_result"
    }
   ],
   "source": [
    "d.reshape(2,12)"
   ]
  },
  {
   "cell_type": "code",
   "execution_count": 140,
   "id": "9318deb7-4e60-408a-954f-2f598f5c76e1",
   "metadata": {},
   "outputs": [
    {
     "data": {
      "text/plain": [
       "array([[ 1,  2],\n",
       "       [ 3,  4],\n",
       "       [ 5,  6],\n",
       "       [ 7,  8],\n",
       "       [ 9, 10],\n",
       "       [11, 12],\n",
       "       [13, 14],\n",
       "       [15, 16],\n",
       "       [17, 18],\n",
       "       [19, 20],\n",
       "       [21, 22],\n",
       "       [23, 24]])"
      ]
     },
     "execution_count": 140,
     "metadata": {},
     "output_type": "execute_result"
    }
   ],
   "source": [
    "d.reshape(12,2)"
   ]
  },
  {
   "cell_type": "code",
   "execution_count": 141,
   "id": "4b76a9d1-b75d-469a-a2a3-657b2a023eb0",
   "metadata": {},
   "outputs": [
    {
     "data": {
      "text/plain": [
       "24"
      ]
     },
     "execution_count": 141,
     "metadata": {},
     "output_type": "execute_result"
    }
   ],
   "source": [
    "np.max(d)"
   ]
  },
  {
   "cell_type": "code",
   "execution_count": 142,
   "id": "9094773f-2ad5-4647-83d4-bf3af827b504",
   "metadata": {},
   "outputs": [
    {
     "data": {
      "text/plain": [
       "1"
      ]
     },
     "execution_count": 142,
     "metadata": {},
     "output_type": "execute_result"
    }
   ],
   "source": [
    "np.min(d)"
   ]
  },
  {
   "cell_type": "code",
   "execution_count": 143,
   "id": "83c3e553-ade9-4479-981a-7ae1019bacc4",
   "metadata": {},
   "outputs": [
    {
     "data": {
      "text/plain": [
       "array([[ 1,  2,  3,  4,  5,  6],\n",
       "       [ 7,  8,  9, 10, 11, 12],\n",
       "       [13, 14, 15, 16, 17, 18],\n",
       "       [19, 20, 21, 22, 23, 24]])"
      ]
     },
     "execution_count": 143,
     "metadata": {},
     "output_type": "execute_result"
    }
   ],
   "source": [
    "d"
   ]
  },
  {
   "cell_type": "code",
   "execution_count": 154,
   "id": "4baddb63-8552-439d-b087-090deacb4fbe",
   "metadata": {},
   "outputs": [
    {
     "data": {
      "text/plain": [
       "array([19, 20, 21, 22, 23, 24])"
      ]
     },
     "execution_count": 154,
     "metadata": {},
     "output_type": "execute_result"
    }
   ],
   "source": [
    "np.max(d,axis=0)"
   ]
  },
  {
   "cell_type": "code",
   "execution_count": null,
   "id": "34ed5859-ea44-4587-946d-62a8cc52b2b4",
   "metadata": {},
   "outputs": [],
   "source": []
  }
 ],
 "metadata": {
  "kernelspec": {
   "display_name": "Python 3",
   "language": "python",
   "name": "python3"
  },
  "language_info": {
   "codemirror_mode": {
    "name": "ipython",
    "version": 3
   },
   "file_extension": ".py",
   "mimetype": "text/x-python",
   "name": "python",
   "nbconvert_exporter": "python",
   "pygments_lexer": "ipython3",
   "version": "3.8.8"
  }
 },
 "nbformat": 4,
 "nbformat_minor": 5
}
